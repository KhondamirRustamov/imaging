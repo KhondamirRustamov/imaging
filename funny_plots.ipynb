{
 "cells": [
  {
   "cell_type": "code",
   "execution_count": null,
   "id": "b6898fe9-1648-463e-a825-509e7f3577ae",
   "metadata": {},
   "outputs": [],
   "source": [
    "import pandas as pd\n",
    "import numpy as np\n",
    "\n",
    "df = pd.read_csv('res.csv')\n",
    "print(df['n'].to_list())\n",
    "\n",
    "rf = pd.read_csv('locations.csv')\n",
    "\n",
    "x, y, w, h = rf['X'].to_list(), rf['Y'].to_list(), rf['Width'].to_list(), rf['Height'].to_list()\n",
    "max_min = np.array([df[f'Mean{i+1}'].to_list() for i in range(len(x))])\n",
    "maxlim = np.max(max_min)\n",
    "minlim = np.min(max_min)"
   ]
  },
  {
   "cell_type": "code",
   "execution_count": 68,
   "id": "e4bff345-4c88-4617-8b13-a64c8ffa33e0",
   "metadata": {},
   "outputs": [
    {
     "data": {
      "text/plain": [
       "(113.543, 25.401)"
      ]
     },
     "execution_count": 68,
     "metadata": {},
     "output_type": "execute_result"
    }
   ],
   "source": [
    "maxlim, minlim"
   ]
  },
  {
   "cell_type": "code",
   "execution_count": 28,
   "id": "e245739d-a742-435b-b9d4-626980e76a45",
   "metadata": {},
   "outputs": [],
   "source": [
    "add_name = ['AMPA_P \\n3µM','Ferrutinin \\n20µM']\n",
    "add_timing = [13, 31]"
   ]
  },
  {
   "cell_type": "code",
   "execution_count": null,
   "id": "9acf67a9-70dd-4b7e-8cde-e76a87a95c14",
   "metadata": {},
   "outputs": [],
   "source": [
    "import tqdm\n",
    "import glob\n",
    "import matplotlib.pyplot as plt\n",
    "import matplotlib.image as mpimg\n",
    "\n",
    "import matplotlib.patches as patches\n",
    "for i in tqdm.tqdm(range(1,len(x))):\n",
    "    #i=51\n",
    "    f, axarr = plt.subplots(1,2, figsize=(15, 5))\n",
    "    for z in glob.glob(f\"5-pep-nmda/5-nmda-pep_*0{i}.png\"):\n",
    "        image = mpimg.imread(z)\n",
    "        \n",
    "    axarr[0].imshow(image*(255*2/(maxlim-minlim)))\n",
    "    axarr[0].axis('off')\n",
    "    for epoch in range(len(x)):\n",
    "        rect = patches.Rectangle((int(x[epoch]), int(y[epoch])), int(w[epoch]), int(h[epoch]), linewidth=1, facecolor='none', edgecolor='white')\n",
    "        axarr[0].add_patch(rect)\n",
    "    \n",
    "    axarr[1].set_ylim([minlim-(minlim*0.2),maxlim+(maxlim*0.2)])\n",
    "    axarr[1].set_xlim([0,510])\n",
    "    axarr[1].set_ylabel('FluO-4 arb.u.', fontsize = 20)\n",
    "    axarr[1].set_xlabel('Time(sec)', fontsize = 20)\n",
    "\n",
    "    for epoch in range(len(x)):\n",
    "        axarr[1].plot([(z-1)*10 for z in df['n'].to_list()[:i]], df[f'Mean{epoch+1}'].to_list()[:i], c='black')\n",
    "\n",
    "    for add in range(len(add_name)):\n",
    "        maxin = maxlim+(maxlim*0.2)\n",
    "        height = maxin*0.03\n",
    "        height_y = maxin - maxin*0.05\n",
    "        height_text = maxin - maxin*0.15\n",
    "        if i > add_timing[add]:\n",
    "            if add_timing[add] != add_timing[-1]:\n",
    "                if i > add_timing[add+1]:\n",
    "                    width = add_timing[-1]*10 - add_timing[add]*10 - 5\n",
    "                else:\n",
    "                    width = (i*10 - (add_timing[add]*10-5))\n",
    "            else:\n",
    "                width = (i*10 - (add_timing[add]*10-5))\n",
    "            rect = patches.Rectangle((add_timing[add]*10-5, height_y), width, height, linewidth=1, color='black')\n",
    "            axarr[1].add_patch(rect)\n",
    "            axarr[1].text(add_timing[add]*10-5, height_text, color = 'black', s = add_name[add], fontsize = 15)\n",
    "    plt.savefig(f'card_video/{i}.jpg')"
   ]
  },
  {
   "cell_type": "code",
   "execution_count": 80,
   "id": "31bb8359-7dca-4024-be12-49e395025f79",
   "metadata": {},
   "outputs": [],
   "source": [
    "from PIL import Image\n",
    "im = Image.open('card_video/1.jpg')\n",
    "#im = Image.new('RGB', (),(0, 0, 0))\n",
    "\n",
    "im_list = []\n",
    "for i in range(1, 51):\n",
    "    i = f'card_video/{i+1}.jpg'\n",
    "    #print(i)\n",
    "    image_pil = Image.open(i)\n",
    "    im_list.append(image_pil)\n",
    "\n",
    "im.save('5-pep-nmda.gif', save_all=True, append_images=im_list)"
   ]
  }
 ],
 "metadata": {
  "kernelspec": {
   "display_name": "Python 3 (ipykernel)",
   "language": "python",
   "name": "python3"
  },
  "language_info": {
   "codemirror_mode": {
    "name": "ipython",
    "version": 3
   },
   "file_extension": ".py",
   "mimetype": "text/x-python",
   "name": "python",
   "nbconvert_exporter": "python",
   "pygments_lexer": "ipython3",
   "version": "3.9.6"
  }
 },
 "nbformat": 4,
 "nbformat_minor": 5
}
