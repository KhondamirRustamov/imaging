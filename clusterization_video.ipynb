{
 "cells": [
  {
   "cell_type": "code",
   "execution_count": null,
   "id": "926d408e-1b23-46ed-a258-885566d9b824",
   "metadata": {},
   "outputs": [],
   "source": [
    "from clusters_tools import *\n",
    "\n",
    "import glob\n",
    "from PIL import Image\n",
    "import numpy as np\n",
    "\n",
    "import matplotlib.pyplot as plt"
   ]
  },
  {
   "cell_type": "code",
   "execution_count": null,
   "id": "97e2227a-54d4-4ed0-94d5-28769e108a70",
   "metadata": {},
   "outputs": [],
   "source": [
    "import imageio\n",
    "import numpy as np\n",
    "filename = 'card1.mp4'\n",
    "vid = imageio.get_reader(filename,  'ffmpeg')\n",
    "\n",
    "length = 47   #длина видео в секундах, можно записать в формате min*60+sec (например 4*60+37)\n",
    "\n",
    "timing = vid.count_frames()\n",
    "multiplicator = int(timing/length)\n",
    "nums = range(0, length)\n",
    "images = []\n",
    "for i in nums:\n",
    "    image = vid.get_data(i*multiplicator)\n",
    "    images.append(np.array(image)[:,:,1])\n"
   ]
  },
  {
   "cell_type": "code",
   "execution_count": null,
   "id": "fbec41d5-1a20-4353-9140-ec04809b9d82",
   "metadata": {},
   "outputs": [],
   "source": [
    "\n",
    "# вставьте время добавки (start) и время следующей добавки (end) \n",
    "thre = 0.995   # можно поиграться с эти значением, чтобы лучше разграничить клетки\n",
    "start = 18    # время добавки (кадр)\n",
    "end = 22      # время следующей добавки (кадр) или + 1.5 минуты для FluO-4\n",
    "sums = calculate_changes_downsample(start = start, end = end, im_list = images, thre = thre) \n",
    "complexes = calculate_complexes(sums)\n",
    "\n",
    "## визуализация изображения\n",
    "complex_img = complex_to_img(sums, complexes)\n",
    "c_extended = complexes_extended(complex_img)\n",
    "\n",
    "plt.imshow(complex_img)\n",
    "\n",
    "for i, ix in enumerate(complexes):\n",
    "    label = f'{i}'\n",
    "    text_x = ix[0][0]\n",
    "    text_y = ix[0][1]\n",
    "    plt.text(text_y, text_x, label, color='White', ha='center', va='center')\n",
    "\n",
    "plt.show()"
   ]
  },
  {
   "cell_type": "code",
   "execution_count": null,
   "id": "c9d15bf4-1662-413e-8f7b-1afca67e9118",
   "metadata": {},
   "outputs": [],
   "source": [
    "## визуализация клеток\n",
    "im_list = images\n",
    "sums_extended = complexes_extended(sums)\n",
    "x, y = sums_extended.shape\n",
    "f, axarr = plt.subplots(2,2, figsize=(9, 7.5))\n",
    "title_fontsize = 18\n",
    "\n",
    "axarr[0,0].imshow(sums_extended, vmin = 0, vmax = 1)\n",
    "axarr[0,0].set_title('Ответившие клетки', fontsize=title_fontsize) \n",
    "\n",
    "axarr[0,1].imshow(im_list[15-1]/255, vmin = 0, vmax = 1, cmap = 'Greys')\n",
    "axarr[0,1].set_title(f'Кадр {start}', fontsize=title_fontsize) \n",
    "\n",
    "axarr[1,0].imshow(complex_img*2)\n",
    "axarr[1,0].set_title('Кластеры клеток', fontsize=title_fontsize) \n",
    "\n",
    "for i, ix in enumerate(complexes):\n",
    "    label = f'{i}'\n",
    "    text_x = ix[0][0]\n",
    "    text_y = ix[0][1]\n",
    "    axarr[1,0].text(text_y, text_x, label, color='White', ha='center', va='center', fontsize = 6)\n",
    "    \n",
    "axarr[1,1].imshow(sums_extended+(im_list[15-1][:x,:y]/(255*3.5)), vmin = 0, vmax = 1, cmap='Greys')\n",
    "axarr[1,1].set_title(f'Ответившие клетки + кадр {start}', fontsize=title_fontsize) \n",
    "\n",
    "plt.show()"
   ]
  },
  {
   "cell_type": "code",
   "execution_count": null,
   "id": "123ac7c9-c115-40cb-b802-2b52900d17d5",
   "metadata": {},
   "outputs": [],
   "source": [
    "## Подсчет изменения свечения в клетках\n",
    "lines = calculate_lines(c_extended, im_list)\n",
    "time_seconds = [i*1 for i in range(len(lines[0]))]\n",
    "for i in lines:\n",
    "    plt.plot(time_seconds,i)\n",
    "\n",
    "plt.title('Neurons', fontsize = 28)\n",
    "plt.ylabel('FluO-4 arb.u.', fontsize = 20)\n",
    "plt.xlabel('Time(sec)', fontsize = 20)\n",
    "plt. axvline(x=start*1, color='r', linestyle='--', linewidth=2)\n",
    "plt. axvline(x=end*1, color='r', linestyle='--', linewidth=2)\n",
    "plt.show()"
   ]
  },
  {
   "cell_type": "code",
   "execution_count": null,
   "id": "c5e2c64c-725c-4098-b811-cec0879ec737",
   "metadata": {},
   "outputs": [],
   "source": [
    "import pandas as pd\n",
    "\n",
    "## сохранение графиков в формате .csv\n",
    "\n",
    "dat = {f'{x}':lines[x] for x in range(len(lines))}\n",
    "dat = pd.DataFrame(dat)\n",
    "dat.to_csv('neuro.csv') # введите название для нового файла здесь"
   ]
  }
 ],
 "metadata": {
  "kernelspec": {
   "display_name": "Python 3 (ipykernel)",
   "language": "python",
   "name": "python3"
  },
  "language_info": {
   "codemirror_mode": {
    "name": "ipython",
    "version": 3
   },
   "file_extension": ".py",
   "mimetype": "text/x-python",
   "name": "python",
   "nbconvert_exporter": "python",
   "pygments_lexer": "ipython3",
   "version": "3.9.6"
  }
 },
 "nbformat": 4,
 "nbformat_minor": 5
}
